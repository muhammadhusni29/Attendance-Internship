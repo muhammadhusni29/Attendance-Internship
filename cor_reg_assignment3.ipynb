{
  "nbformat": 4,
  "nbformat_minor": 0,
  "metadata": {
    "colab": {
      "name": "cor_reg_assignment3.ipynb",
      "provenance": [],
      "collapsed_sections": [],
      "mount_file_id": "1KlVQO7vbjR6lennZ2WeOYtDUx7lP1cwH",
      "authorship_tag": "ABX9TyO2QaO8tFZv811svrvf8xWa",
      "include_colab_link": true
    },
    "kernelspec": {
      "name": "python3",
      "display_name": "Python 3"
    },
    "language_info": {
      "name": "python"
    }
  },
  "cells": [
    {
      "cell_type": "markdown",
      "metadata": {
        "id": "view-in-github",
        "colab_type": "text"
      },
      "source": [
        "<a href=\"https://colab.research.google.com/github/muhammadhusni29/Attendance-Internship/blob/main/cor_reg_assignment3.ipynb\" target=\"_parent\"><img src=\"https://colab.research.google.com/assets/colab-badge.svg\" alt=\"Open In Colab\"/></a>"
      ]
    },
    {
      "cell_type": "markdown",
      "metadata": {
        "id": "zfajkTfIBnXf"
      },
      "source": [
        "By using weather data in Szeged city, I predict temperature using Multiple Linear Regression method and test some classical Ordinary Least Square assumptions whether my model that I've build is good or not."
      ]
    },
    {
      "cell_type": "markdown",
      "metadata": {
        "id": "g1SR0v4C3TLc"
      },
      "source": [
        "# Predict Temperature with Multiple Linear Regression "
      ]
    },
    {
      "cell_type": "code",
      "metadata": {
        "id": "TQebqODx2Lxr"
      },
      "source": [
        "# dataset management\n",
        "import pandas as pd\n",
        "# linear algebra stuff\n",
        "import numpy as np\n",
        "# data visualization\n",
        "import seaborn as sns\n",
        "import matplotlib.pyplot as plt\n",
        "# mathematics \n",
        "from math import sqrt\n",
        "# machine learning stuff \n",
        "from sklearn.linear_model import LinearRegression\n",
        "# statistics stuff\n",
        "from scipy.stats import kstest"
      ],
      "execution_count": null,
      "outputs": []
    },
    {
      "cell_type": "markdown",
      "metadata": {
        "id": "sEEucaeN3ndR"
      },
      "source": [
        "## Load the data"
      ]
    },
    {
      "cell_type": "code",
      "metadata": {
        "id": "POye8PRg2k_C"
      },
      "source": [
        "data = pd.read_csv(\"/content/drive/MyDrive/Regression analysis and correlation/Assignment2/weatherHistory.csv\")"
      ],
      "execution_count": null,
      "outputs": []
    },
    {
      "cell_type": "markdown",
      "metadata": {
        "id": "dWwBVh3K4WOU"
      },
      "source": [
        "## Exploratory Data Analysis"
      ]
    },
    {
      "cell_type": "markdown",
      "metadata": {
        "id": "URGDMRX0tScU"
      },
      "source": [
        "Weather Szeged data in 2006-2016. The types of this data is multivariate and timeseries. \n",
        "[Data Source](https://www.kaggle.com/budincsevity/szeged-weather) <br>\n",
        "To predict the temperature I'll choose the independent variables that have hight correlation with the target variable. \n"
      ]
    },
    {
      "cell_type": "code",
      "metadata": {
        "colab": {
          "base_uri": "https://localhost:8080/",
          "height": 276
        },
        "id": "TpSmrtOG4IXt",
        "outputId": "16dc9ce9-7c1f-4ec1-b249-41c7c41fd61d"
      },
      "source": [
        "data.head(3)"
      ],
      "execution_count": null,
      "outputs": [
        {
          "output_type": "execute_result",
          "data": {
            "text/html": [
              "<div>\n",
              "<style scoped>\n",
              "    .dataframe tbody tr th:only-of-type {\n",
              "        vertical-align: middle;\n",
              "    }\n",
              "\n",
              "    .dataframe tbody tr th {\n",
              "        vertical-align: top;\n",
              "    }\n",
              "\n",
              "    .dataframe thead th {\n",
              "        text-align: right;\n",
              "    }\n",
              "</style>\n",
              "<table border=\"1\" class=\"dataframe\">\n",
              "  <thead>\n",
              "    <tr style=\"text-align: right;\">\n",
              "      <th></th>\n",
              "      <th>Formatted Date</th>\n",
              "      <th>Summary</th>\n",
              "      <th>Precip Type</th>\n",
              "      <th>Temperature (C)</th>\n",
              "      <th>Apparent Temperature (C)</th>\n",
              "      <th>Humidity</th>\n",
              "      <th>Wind Speed (km/h)</th>\n",
              "      <th>Wind Bearing (degrees)</th>\n",
              "      <th>Visibility (km)</th>\n",
              "      <th>Loud Cover</th>\n",
              "      <th>Pressure (millibars)</th>\n",
              "      <th>Daily Summary</th>\n",
              "    </tr>\n",
              "  </thead>\n",
              "  <tbody>\n",
              "    <tr>\n",
              "      <th>0</th>\n",
              "      <td>2006-04-01 00:00:00.000 +0200</td>\n",
              "      <td>Partly Cloudy</td>\n",
              "      <td>rain</td>\n",
              "      <td>9.472222</td>\n",
              "      <td>7.388889</td>\n",
              "      <td>0.89</td>\n",
              "      <td>14.1197</td>\n",
              "      <td>251.0</td>\n",
              "      <td>15.8263</td>\n",
              "      <td>0.0</td>\n",
              "      <td>1015.13</td>\n",
              "      <td>Partly cloudy throughout the day.</td>\n",
              "    </tr>\n",
              "    <tr>\n",
              "      <th>1</th>\n",
              "      <td>2006-04-01 01:00:00.000 +0200</td>\n",
              "      <td>Partly Cloudy</td>\n",
              "      <td>rain</td>\n",
              "      <td>9.355556</td>\n",
              "      <td>7.227778</td>\n",
              "      <td>0.86</td>\n",
              "      <td>14.2646</td>\n",
              "      <td>259.0</td>\n",
              "      <td>15.8263</td>\n",
              "      <td>0.0</td>\n",
              "      <td>1015.63</td>\n",
              "      <td>Partly cloudy throughout the day.</td>\n",
              "    </tr>\n",
              "    <tr>\n",
              "      <th>2</th>\n",
              "      <td>2006-04-01 02:00:00.000 +0200</td>\n",
              "      <td>Mostly Cloudy</td>\n",
              "      <td>rain</td>\n",
              "      <td>9.377778</td>\n",
              "      <td>9.377778</td>\n",
              "      <td>0.89</td>\n",
              "      <td>3.9284</td>\n",
              "      <td>204.0</td>\n",
              "      <td>14.9569</td>\n",
              "      <td>0.0</td>\n",
              "      <td>1015.94</td>\n",
              "      <td>Partly cloudy throughout the day.</td>\n",
              "    </tr>\n",
              "  </tbody>\n",
              "</table>\n",
              "</div>"
            ],
            "text/plain": [
              "                  Formatted Date  ...                      Daily Summary\n",
              "0  2006-04-01 00:00:00.000 +0200  ...  Partly cloudy throughout the day.\n",
              "1  2006-04-01 01:00:00.000 +0200  ...  Partly cloudy throughout the day.\n",
              "2  2006-04-01 02:00:00.000 +0200  ...  Partly cloudy throughout the day.\n",
              "\n",
              "[3 rows x 12 columns]"
            ]
          },
          "metadata": {
            "tags": []
          },
          "execution_count": 3
        }
      ]
    },
    {
      "cell_type": "markdown",
      "metadata": {
        "id": "Ao8U7Tdl94QP"
      },
      "source": [
        "### Statistical Descriptions"
      ]
    },
    {
      "cell_type": "code",
      "metadata": {
        "colab": {
          "base_uri": "https://localhost:8080/",
          "height": 305
        },
        "id": "RWDiHTnW4Vvx",
        "outputId": "b047dcf4-3b82-4040-f6f9-a9a09d971838"
      },
      "source": [
        "data.describe()"
      ],
      "execution_count": null,
      "outputs": [
        {
          "output_type": "execute_result",
          "data": {
            "text/html": [
              "<div>\n",
              "<style scoped>\n",
              "    .dataframe tbody tr th:only-of-type {\n",
              "        vertical-align: middle;\n",
              "    }\n",
              "\n",
              "    .dataframe tbody tr th {\n",
              "        vertical-align: top;\n",
              "    }\n",
              "\n",
              "    .dataframe thead th {\n",
              "        text-align: right;\n",
              "    }\n",
              "</style>\n",
              "<table border=\"1\" class=\"dataframe\">\n",
              "  <thead>\n",
              "    <tr style=\"text-align: right;\">\n",
              "      <th></th>\n",
              "      <th>Temperature (C)</th>\n",
              "      <th>Apparent Temperature (C)</th>\n",
              "      <th>Humidity</th>\n",
              "      <th>Wind Speed (km/h)</th>\n",
              "      <th>Wind Bearing (degrees)</th>\n",
              "      <th>Visibility (km)</th>\n",
              "      <th>Loud Cover</th>\n",
              "      <th>Pressure (millibars)</th>\n",
              "    </tr>\n",
              "  </thead>\n",
              "  <tbody>\n",
              "    <tr>\n",
              "      <th>count</th>\n",
              "      <td>96453.000000</td>\n",
              "      <td>96453.000000</td>\n",
              "      <td>96453.000000</td>\n",
              "      <td>96453.000000</td>\n",
              "      <td>96453.000000</td>\n",
              "      <td>96453.000000</td>\n",
              "      <td>96453.0</td>\n",
              "      <td>96453.000000</td>\n",
              "    </tr>\n",
              "    <tr>\n",
              "      <th>mean</th>\n",
              "      <td>11.932678</td>\n",
              "      <td>10.855029</td>\n",
              "      <td>0.734899</td>\n",
              "      <td>10.810640</td>\n",
              "      <td>187.509232</td>\n",
              "      <td>10.347325</td>\n",
              "      <td>0.0</td>\n",
              "      <td>1003.235956</td>\n",
              "    </tr>\n",
              "    <tr>\n",
              "      <th>std</th>\n",
              "      <td>9.551546</td>\n",
              "      <td>10.696847</td>\n",
              "      <td>0.195473</td>\n",
              "      <td>6.913571</td>\n",
              "      <td>107.383428</td>\n",
              "      <td>4.192123</td>\n",
              "      <td>0.0</td>\n",
              "      <td>116.969906</td>\n",
              "    </tr>\n",
              "    <tr>\n",
              "      <th>min</th>\n",
              "      <td>-21.822222</td>\n",
              "      <td>-27.716667</td>\n",
              "      <td>0.000000</td>\n",
              "      <td>0.000000</td>\n",
              "      <td>0.000000</td>\n",
              "      <td>0.000000</td>\n",
              "      <td>0.0</td>\n",
              "      <td>0.000000</td>\n",
              "    </tr>\n",
              "    <tr>\n",
              "      <th>25%</th>\n",
              "      <td>4.688889</td>\n",
              "      <td>2.311111</td>\n",
              "      <td>0.600000</td>\n",
              "      <td>5.828200</td>\n",
              "      <td>116.000000</td>\n",
              "      <td>8.339800</td>\n",
              "      <td>0.0</td>\n",
              "      <td>1011.900000</td>\n",
              "    </tr>\n",
              "    <tr>\n",
              "      <th>50%</th>\n",
              "      <td>12.000000</td>\n",
              "      <td>12.000000</td>\n",
              "      <td>0.780000</td>\n",
              "      <td>9.965900</td>\n",
              "      <td>180.000000</td>\n",
              "      <td>10.046400</td>\n",
              "      <td>0.0</td>\n",
              "      <td>1016.450000</td>\n",
              "    </tr>\n",
              "    <tr>\n",
              "      <th>75%</th>\n",
              "      <td>18.838889</td>\n",
              "      <td>18.838889</td>\n",
              "      <td>0.890000</td>\n",
              "      <td>14.135800</td>\n",
              "      <td>290.000000</td>\n",
              "      <td>14.812000</td>\n",
              "      <td>0.0</td>\n",
              "      <td>1021.090000</td>\n",
              "    </tr>\n",
              "    <tr>\n",
              "      <th>max</th>\n",
              "      <td>39.905556</td>\n",
              "      <td>39.344444</td>\n",
              "      <td>1.000000</td>\n",
              "      <td>63.852600</td>\n",
              "      <td>359.000000</td>\n",
              "      <td>16.100000</td>\n",
              "      <td>0.0</td>\n",
              "      <td>1046.380000</td>\n",
              "    </tr>\n",
              "  </tbody>\n",
              "</table>\n",
              "</div>"
            ],
            "text/plain": [
              "       Temperature (C)  ...  Pressure (millibars)\n",
              "count     96453.000000  ...          96453.000000\n",
              "mean         11.932678  ...           1003.235956\n",
              "std           9.551546  ...            116.969906\n",
              "min         -21.822222  ...              0.000000\n",
              "25%           4.688889  ...           1011.900000\n",
              "50%          12.000000  ...           1016.450000\n",
              "75%          18.838889  ...           1021.090000\n",
              "max          39.905556  ...           1046.380000\n",
              "\n",
              "[8 rows x 8 columns]"
            ]
          },
          "metadata": {
            "tags": []
          },
          "execution_count": 4
        }
      ]
    },
    {
      "cell_type": "code",
      "metadata": {
        "colab": {
          "base_uri": "https://localhost:8080/"
        },
        "id": "UDl0OJZS4NIV",
        "outputId": "dccb36a9-ad75-43cb-ac5a-a28e282f7cb8"
      },
      "source": [
        "data.info()"
      ],
      "execution_count": null,
      "outputs": [
        {
          "output_type": "stream",
          "text": [
            "<class 'pandas.core.frame.DataFrame'>\n",
            "RangeIndex: 96453 entries, 0 to 96452\n",
            "Data columns (total 12 columns):\n",
            " #   Column                    Non-Null Count  Dtype  \n",
            "---  ------                    --------------  -----  \n",
            " 0   Formatted Date            96453 non-null  object \n",
            " 1   Summary                   96453 non-null  object \n",
            " 2   Precip Type               95936 non-null  object \n",
            " 3   Temperature (C)           96453 non-null  float64\n",
            " 4   Apparent Temperature (C)  96453 non-null  float64\n",
            " 5   Humidity                  96453 non-null  float64\n",
            " 6   Wind Speed (km/h)         96453 non-null  float64\n",
            " 7   Wind Bearing (degrees)    96453 non-null  float64\n",
            " 8   Visibility (km)           96453 non-null  float64\n",
            " 9   Loud Cover                96453 non-null  float64\n",
            " 10  Pressure (millibars)      96453 non-null  float64\n",
            " 11  Daily Summary             96453 non-null  object \n",
            "dtypes: float64(8), object(4)\n",
            "memory usage: 8.8+ MB\n"
          ],
          "name": "stdout"
        }
      ]
    },
    {
      "cell_type": "markdown",
      "metadata": {
        "id": "u8POp-yM0XUy"
      },
      "source": [
        "### Histogram\n",
        "I choose histogram visualization to check the how is the data is distributed. "
      ]
    },
    {
      "cell_type": "code",
      "metadata": {
        "colab": {
          "base_uri": "https://localhost:8080/",
          "height": 295
        },
        "id": "SP6KGpcV0WnA",
        "outputId": "ac9b0aa0-09fc-4450-9c65-396f529b46d4"
      },
      "source": [
        "sns.histplot(data=data, x=\"Humidity\")\n",
        "plt.title(\"Humidity Histogram\")\n",
        "plt.show()"
      ],
      "execution_count": null,
      "outputs": [
        {
          "output_type": "display_data",
          "data": {
            "image/png": "[encoded data removed]",
            "text/plain": [
              "<Figure size 432x288 with 1 Axes>"
            ]
          },
          "metadata": {
            "tags": [],
            "needs_background": "light"
          }
        }
      ]
    },
    {
      "cell_type": "code",
      "metadata": {
        "colab": {
          "base_uri": "https://localhost:8080/",
          "height": 295
        },
        "id": "2mbfLPg61Uhd",
        "outputId": "8c0fe135-fdfb-44cd-a54e-4840e00983a4"
      },
      "source": [
        "sns.histplot(data=data, x=\"Visibility (km)\")\n",
        "plt.title(\"Visibility Histogram\")\n",
        "plt.show()"
      ],
      "execution_count": null,
      "outputs": [
        {
          "output_type": "display_data",
          "data": {
            "image/png": "[encoded data removed]",
            "text/plain": [
              "<Figure size 432x288 with 1 Axes>"
            ]
          },
          "metadata": {
            "tags": [],
            "needs_background": "light"
          }
        }
      ]
    },
    {
      "cell_type": "code",
      "metadata": {
        "colab": {
          "base_uri": "https://localhost:8080/",
          "height": 295
        },
        "id": "4RXhZUcW1aCu",
        "outputId": "6f095297-df90-4409-8542-d262ad601a2c"
      },
      "source": [
        "sns.histplot(data=data, x=\"Wind Speed (km/h)\")\n",
        "plt.title(\"Wind Speed\")\n",
        "plt.show()"
      ],
      "execution_count": null,
      "outputs": [
        {
          "output_type": "display_data",
          "data": {
            "image/png": "[encoded data removed]",
            "text/plain": [
              "<Figure size 432x288 with 1 Axes>"
            ]
          },
          "metadata": {
            "tags": [],
            "needs_background": "light"
          }
        }
      ]
    },
    {
      "cell_type": "code",
      "metadata": {
        "colab": {
          "base_uri": "https://localhost:8080/",
          "height": 295
        },
        "id": "Euc7rZ5A1euy",
        "outputId": "963e63b0-c231-41e3-e53b-0986a4a60de7"
      },
      "source": [
        "sns.histplot(data=data, x=\"Temperature (C)\")\n",
        "plt.title(\"Temperature\")\n",
        "plt.show()"
      ],
      "execution_count": null,
      "outputs": [
        {
          "output_type": "display_data",
          "data": {
            "image/png": "[encoded data removed]",
            "text/plain": [
              "<Figure size 432x288 with 1 Axes>"
            ]
          },
          "metadata": {
            "tags": [],
            "needs_background": "light"
          }
        }
      ]
    },
    {
      "cell_type": "markdown",
      "metadata": {
        "id": "slw6wGoh8MVl"
      },
      "source": [
        "## Data Preprocessing"
      ]
    },
    {
      "cell_type": "code",
      "metadata": {
        "colab": {
          "base_uri": "https://localhost:8080/",
          "height": 198
        },
        "id": "BlIJyYJ-8O4l",
        "outputId": "dabbf6a9-4ed0-4b80-b83c-ba8b32eadab2"
      },
      "source": [
        "data = data[['Temperature (C)', 'Humidity','Visibility (km)', 'Wind Speed (km/h)']].head(200)\n",
        "data.head()"
      ],
      "execution_count": null,
      "outputs": [
        {
          "output_type": "execute_result",
          "data": {
            "text/html": [
              "<div>\n",
              "<style scoped>\n",
              "    .dataframe tbody tr th:only-of-type {\n",
              "        vertical-align: middle;\n",
              "    }\n",
              "\n",
              "    .dataframe tbody tr th {\n",
              "        vertical-align: top;\n",
              "    }\n",
              "\n",
              "    .dataframe thead th {\n",
              "        text-align: right;\n",
              "    }\n",
              "</style>\n",
              "<table border=\"1\" class=\"dataframe\">\n",
              "  <thead>\n",
              "    <tr style=\"text-align: right;\">\n",
              "      <th></th>\n",
              "      <th>Temperature (C)</th>\n",
              "      <th>Humidity</th>\n",
              "      <th>Visibility (km)</th>\n",
              "      <th>Wind Speed (km/h)</th>\n",
              "    </tr>\n",
              "  </thead>\n",
              "  <tbody>\n",
              "    <tr>\n",
              "      <th>0</th>\n",
              "      <td>9.472222</td>\n",
              "      <td>0.89</td>\n",
              "      <td>15.8263</td>\n",
              "      <td>14.1197</td>\n",
              "    </tr>\n",
              "    <tr>\n",
              "      <th>1</th>\n",
              "      <td>9.355556</td>\n",
              "      <td>0.86</td>\n",
              "      <td>15.8263</td>\n",
              "      <td>14.2646</td>\n",
              "    </tr>\n",
              "    <tr>\n",
              "      <th>2</th>\n",
              "      <td>9.377778</td>\n",
              "      <td>0.89</td>\n",
              "      <td>14.9569</td>\n",
              "      <td>3.9284</td>\n",
              "    </tr>\n",
              "    <tr>\n",
              "      <th>3</th>\n",
              "      <td>8.288889</td>\n",
              "      <td>0.83</td>\n",
              "      <td>15.8263</td>\n",
              "      <td>14.1036</td>\n",
              "    </tr>\n",
              "    <tr>\n",
              "      <th>4</th>\n",
              "      <td>8.755556</td>\n",
              "      <td>0.83</td>\n",
              "      <td>15.8263</td>\n",
              "      <td>11.0446</td>\n",
              "    </tr>\n",
              "  </tbody>\n",
              "</table>\n",
              "</div>"
            ],
            "text/plain": [
              "   Temperature (C)  Humidity  Visibility (km)  Wind Speed (km/h)\n",
              "0         9.472222      0.89          15.8263            14.1197\n",
              "1         9.355556      0.86          15.8263            14.2646\n",
              "2         9.377778      0.89          14.9569             3.9284\n",
              "3         8.288889      0.83          15.8263            14.1036\n",
              "4         8.755556      0.83          15.8263            11.0446"
            ]
          },
          "metadata": {
            "tags": []
          },
          "execution_count": 10
        }
      ]
    },
    {
      "cell_type": "markdown",
      "metadata": {
        "id": "xQX0XXXr4piG"
      },
      "source": [
        "## Pearson Correlation"
      ]
    },
    {
      "cell_type": "markdown",
      "metadata": {
        "id": "BGNiWOSi40YG"
      },
      "source": [
        "#### $r_{xy} = \\frac{\\sum (x_i-\\bar{x})(y_i-\\bar{y})}{\\sqrt{\\sum( x_i-\\bar{x})^2 \\sum(y_i-\\bar{y})^2}} $"
      ]
    },
    {
      "cell_type": "markdown",
      "metadata": {
        "id": "MMKahqHO_RMW"
      },
      "source": [
        "### Temperature and Humidity"
      ]
    },
    {
      "cell_type": "code",
      "metadata": {
        "id": "cj-BMibd4PgH"
      },
      "source": [
        "temperature_series = data['Temperature (C)']\n",
        "humidity_series = data['Humidity']\n",
        "visibility_series = data['Visibility (km)']\n",
        "wind_speed_series = data['Wind Speed (km/h)']"
      ],
      "execution_count": null,
      "outputs": []
    },
    {
      "cell_type": "code",
      "metadata": {
        "id": "-HVBbkIg_s1U"
      },
      "source": [
        "sum_up = []\n",
        "sum_down_x = []\n",
        "sum_down_y = []\n",
        "\n",
        "for x_i, y_i in zip(data['Humidity'], data['Temperature (C)']):\n",
        "  sum_up.append((x_i-humidity_series.mean())*(y_i-temperature_series.mean()))\n",
        "  sum_down_x.append((x_i-humidity_series.mean())**2)\n",
        "  sum_down_y.append((y_i-temperature_series.mean())**2)\n"
      ],
      "execution_count": null,
      "outputs": []
    },
    {
      "cell_type": "code",
      "metadata": {
        "colab": {
          "base_uri": "https://localhost:8080/"
        },
        "id": "96mwMGjs_nY8",
        "outputId": "55dbe30f-cadf-4e2a-ae32-34e32be7e2e6"
      },
      "source": [
        "print(sum(sum_up)/sqrt((sum(sum_down_x))*(sum(sum_down_y))))"
      ],
      "execution_count": null,
      "outputs": [
        {
          "output_type": "stream",
          "text": [
            "-0.7880470564526484\n"
          ],
          "name": "stdout"
        }
      ]
    },
    {
      "cell_type": "markdown",
      "metadata": {
        "id": "WziF6wvQGEk6"
      },
      "source": [
        "### Temperature and Visibility "
      ]
    },
    {
      "cell_type": "code",
      "metadata": {
        "id": "DIyta_w9GfHI"
      },
      "source": [
        "sum_up = []\n",
        "sum_down_x = []\n",
        "sum_down_y = []\n",
        "\n",
        "for x_i, y_i in zip(data['Visibility (km)'], data['Temperature (C)']):\n",
        "  sum_up.append((x_i-visibility_series.mean())*(y_i-temperature_series.mean()))\n",
        "  sum_down_x.append((x_i-visibility_series.mean())**2)\n",
        "  sum_down_y.append((y_i-temperature_series.mean())**2)\n"
      ],
      "execution_count": null,
      "outputs": []
    },
    {
      "cell_type": "code",
      "metadata": {
        "colab": {
          "base_uri": "https://localhost:8080/"
        },
        "id": "iQ0uu-jpGqhg",
        "outputId": "ebeaa9d0-d961-4f5b-98de-07e949afb7ef"
      },
      "source": [
        "print(sum(sum_up)/sqrt((sum(sum_down_x))*(sum(sum_down_y))))"
      ],
      "execution_count": null,
      "outputs": [
        {
          "output_type": "stream",
          "text": [
            "0.04341373758063724\n"
          ],
          "name": "stdout"
        }
      ]
    },
    {
      "cell_type": "markdown",
      "metadata": {
        "id": "IeIJYyqCHRvF"
      },
      "source": [
        "### Temperature and Wind Speed"
      ]
    },
    {
      "cell_type": "code",
      "metadata": {
        "id": "K7camjMEHZpJ"
      },
      "source": [
        "sum_up = []\n",
        "sum_down_x = []\n",
        "sum_down_y = []\n",
        "\n",
        "for x_i, y_i in zip(data['Wind Speed (km/h)'], data['Temperature (C)']):\n",
        "  sum_up.append((x_i-wind_speed_series.mean())*(y_i-temperature_series.mean()))\n",
        "  sum_down_x.append((x_i-wind_speed_series.mean())**2)\n",
        "  sum_down_y.append((y_i-temperature_series.mean())**2)\n"
      ],
      "execution_count": null,
      "outputs": []
    },
    {
      "cell_type": "code",
      "metadata": {
        "colab": {
          "base_uri": "https://localhost:8080/"
        },
        "id": "xbye4Mv2Hnda",
        "outputId": "65033d68-9e0d-4b16-be63-0c91e081cad3"
      },
      "source": [
        "print(sum(sum_up)/sqrt((sum(sum_down_x))*(sum(sum_down_y))))"
      ],
      "execution_count": null,
      "outputs": [
        {
          "output_type": "stream",
          "text": [
            "0.17591990157802367\n"
          ],
          "name": "stdout"
        }
      ]
    },
    {
      "cell_type": "code",
      "metadata": {
        "colab": {
          "base_uri": "https://localhost:8080/"
        },
        "id": "stRG5YR1EfXt",
        "outputId": "91f351fa-b073-4344-f1ef-fdcd7f9f90b2"
      },
      "source": [
        "sns.heatmap(data.corr())\n",
        "a = plt.gcf()\n",
        "a.set_size_inches(15,6)"
      ],
      "execution_count": null,
      "outputs": [
        {
          "output_type": "display_data",
          "data": {
            "image/png": "[encoded data removed]",
            "text/plain": [
              "<Figure size 1080x432 with 2 Axes>"
            ]
          },
          "metadata": {
            "tags": [],
            "needs_background": "light"
          }
        }
      ]
    },
    {
      "cell_type": "markdown",
      "metadata": {
        "id": "BMJ3UCuSIFWI"
      },
      "source": [
        "## Multiple Linear Regression\n",
        "\n",
        "To estimate the unknown parameters in a linear regression model, I choose the Ordinary Least Square method. Based on Wikipedia, OLS chooses the parameters of a linear function of a set of explanatory variables by the principle of least squares: minimizing the sum of the squares of the differences between the observed dependent variable (values of the variable being observed) in the given dataset and those predicted by the linear function of the independent variable."
      ]
    },
    {
      "cell_type": "markdown",
      "metadata": {
        "id": "dwBcwFP3xFIq"
      },
      "source": [
        "### Formula\n",
        "$\\hat{y} = X\\hat{\\beta} + \\epsilon $ <br>\n",
        "$\\hat{B}=(X^TX)^{-1}X^Ty$"
      ]
    },
    {
      "cell_type": "markdown",
      "metadata": {
        "id": "J9x4Y2alAtAY"
      },
      "source": [
        "<br>\n",
        "y = $\\begin{bmatrix}\n",
        "y_1\\\\\n",
        "y_2\\\\\n",
        "y_3\\\\\n",
        ".\\\\\n",
        ".\\\\\n",
        ".\\\\\n",
        "y_n\n",
        "\\end{bmatrix}$\n",
        "\n",
        "---\n",
        "X = $\\begin{bmatrix}\n",
        "1 & X_{1,1} & X_{1,2}&...&X_{1,p}\\\\\n",
        "1 & X_{2,1} & X_{2,2}&...&X_{2,p}\\\\\n",
        "1 & X_{1,1} & X_{1,2}&...&X_{1,p}\\\\\n",
        ". & & & & .\\\\\n",
        ". & & & & .\\\\\n",
        ". & & & & .\\\\\n",
        "1 & X_{n,1} & X_{n,2}&...&X_{n,p}\\\\\n",
        "\\end{bmatrix}$"
      ]
    },
    {
      "cell_type": "markdown",
      "metadata": {
        "id": "ZvElFlQUBFcI"
      },
      "source": [
        "### Calculations"
      ]
    },
    {
      "cell_type": "code",
      "metadata": {
        "id": "7ysEDW3xIKDB"
      },
      "source": [
        "# convert the data into matrix or vector\n",
        "X = data.drop(columns=['Temperature (C)']).to_numpy()\n",
        "y = data['Temperature (C)'].to_numpy()\n",
        "\n",
        "# create the matrix than contains 1 in the collumn one \n",
        "X = np.concatenate((np.full((200,1),1), X), axis=1)\n",
        "# invers the matrix\n",
        "xtx = np.linalg.inv(np.matmul(np.transpose(X),X))\n",
        "# mulplied process\n",
        "xty = np.matmul(np.transpose(X), y)\n",
        "# the parameters of our OLS model \n",
        "parameters = np.matmul(xtx, xty)"
      ],
      "execution_count": null,
      "outputs": []
    },
    {
      "cell_type": "code",
      "metadata": {
        "id": "XXnCZVgvMLPi"
      },
      "source": [
        "coefisien = np.matmul(xtx, xty)[1:]\n",
        "intercept = np.matmul(xtx, xty)[:1]"
      ],
      "execution_count": null,
      "outputs": []
    },
    {
      "cell_type": "code",
      "metadata": {
        "colab": {
          "base_uri": "https://localhost:8080/"
        },
        "id": "Dla6u_20NbdP",
        "outputId": "83911220-e414-48a5-fb25-1fa97ce33f24"
      },
      "source": [
        "parameters"
      ],
      "execution_count": null,
      "outputs": [
        {
          "output_type": "execute_result",
          "data": {
            "text/plain": [
              "array([ 2.80074210e+01, -2.12918104e+01, -9.60855586e-02,  1.38725474e-02])"
            ]
          },
          "metadata": {
            "tags": []
          },
          "execution_count": 21
        }
      ]
    },
    {
      "cell_type": "code",
      "metadata": {
        "colab": {
          "base_uri": "https://localhost:8080/"
        },
        "id": "eQ8Ib4Ftwh5w",
        "outputId": "ecaaf27b-ea99-428c-8fb0-f08a1629c518"
      },
      "source": [
        "intercept"
      ],
      "execution_count": null,
      "outputs": [
        {
          "output_type": "execute_result",
          "data": {
            "text/plain": [
              "array([28.00742103])"
            ]
          },
          "metadata": {
            "tags": []
          },
          "execution_count": 22
        }
      ]
    },
    {
      "cell_type": "code",
      "metadata": {
        "colab": {
          "base_uri": "https://localhost:8080/"
        },
        "id": "rGwA3rB8wWMO",
        "outputId": "3ceb1f2f-8ecd-41dd-ef28-8a04062069d6"
      },
      "source": [
        "coefisien"
      ],
      "execution_count": null,
      "outputs": [
        {
          "output_type": "execute_result",
          "data": {
            "text/plain": [
              "array([-2.12918104e+01, -9.60855586e-02,  1.38725474e-02])"
            ]
          },
          "metadata": {
            "tags": []
          },
          "execution_count": 23
        }
      ]
    },
    {
      "cell_type": "markdown",
      "metadata": {
        "id": "FJGWxwYBIcNi"
      },
      "source": [
        "#### Predict Function\n",
        "A function that can predict $y$-value by assigning the $X$-value.   "
      ]
    },
    {
      "cell_type": "code",
      "metadata": {
        "id": "-tEwM3zqOM3i"
      },
      "source": [
        "def predict(data, parameter):\n",
        "  y_pred = np.matmul(data, parameter)\n",
        "  return y_pred"
      ],
      "execution_count": null,
      "outputs": []
    },
    {
      "cell_type": "code",
      "metadata": {
        "id": "mSkNNdppOiWK"
      },
      "source": [
        "y_pred = predict(X, parameters)"
      ],
      "execution_count": null,
      "outputs": []
    },
    {
      "cell_type": "markdown",
      "metadata": {
        "id": "0MAsFdz1MYST"
      },
      "source": [
        "## Linear Regression"
      ]
    },
    {
      "cell_type": "code",
      "metadata": {
        "id": "Ufo-ygZRMxBx"
      },
      "source": [
        "x = data.drop(columns=['Temperature (C)']).to_numpy()"
      ],
      "execution_count": null,
      "outputs": []
    },
    {
      "cell_type": "code",
      "metadata": {
        "id": "5quE7vhZMPEo"
      },
      "source": [
        "linreg = LinearRegression()\n",
        "linreg.fit(x, y)"
      ],
      "execution_count": null,
      "outputs": []
    },
    {
      "cell_type": "code",
      "metadata": {
        "id": "k98CXE-jODU8"
      },
      "source": [
        "residual = y-linreg.predict(x)"
      ],
      "execution_count": null,
      "outputs": []
    },
    {
      "cell_type": "markdown",
      "metadata": {
        "id": "i1a4qUou2W2q"
      },
      "source": [
        "# Residual Testing\n",
        "\n",
        "---\n",
        "Ordinary Least Square (OLS) Linear regression have some assumptions than can help us to know whether our model produces the best estimates or not. If some of these assumptions are not true, then we might need to employ remedial measures or use other estimation methods. You can see more details about the assumptions in [here](/https://statisticsbyjim.com/regression/ols-linear-regression-assumptions/)\n",
        "\n",
        "In this project I just tested some residual assumptions such as No heteroscedasticity, the error term is normally distributed and ....."
      ]
    },
    {
      "cell_type": "code",
      "metadata": {
        "id": "xtXkSuRslAho"
      },
      "source": [
        "residual = y-y_pred "
      ],
      "execution_count": null,
      "outputs": []
    },
    {
      "cell_type": "markdown",
      "metadata": {
        "id": "zuZ6pvDTB79H"
      },
      "source": [
        "## OLS Assumption 1: The Error Term is Normally distributed \n",
        "This assumption is optional, it's mean that the residual doesn't require normally distributed.**Satisfying this assumption allows us to perform statistical hypothesis testing and generate reliable confidence intervals and prediction intervals**."
      ]
    },
    {
      "cell_type": "markdown",
      "metadata": {
        "id": "aB00rinHUCtj"
      },
      "source": [
        "##### Standardize Residuals\n",
        "$Standardized\\space residuals\\space i = \\frac{Residual_i}{Standard\\space deviation\\space of \\space residual_i}$ "
      ]
    },
    {
      "cell_type": "code",
      "metadata": {
        "id": "ALJBp--IUCMM"
      },
      "source": [
        "standard_residual = []\n",
        "std_residual = np.std(residual)\n",
        "for residual_i in residual:\n",
        "  standard_residual.append(residual_i/std_residual) \n",
        "# convert standard residual list to ndarray\n",
        "#standard_residual"
      ],
      "execution_count": null,
      "outputs": []
    },
    {
      "cell_type": "markdown",
      "metadata": {
        "id": "cJZkOWQqUsc1"
      },
      "source": [
        "### Histogram and Normal P-Plot of Regression Standaridized Residual \n",
        "**Probability Plot** <br>\n",
        "Probability plot is another way to visualize the distributions of data. \n",
        "\n",
        "The probability plot can be of two types:\n",
        "* P-P plot: The (Probability-to-Probability) p-p plot is the way to visualize the comparing of cumulative distribution function (CDFs) of the two distributions (empirical and theoretical) against each other.\n",
        "* Q-Q plot: The q-q (Quantile-to-Quantile) plot is used to compare the quantiles of two distributions. The quantiles can be defined as continuous intervals with equal probabilities or dividing the samples between a similar way The distributions may be theoretical or sample distributions from a process, etc. The normal probability plot is a case of the q-q plot.<br>\n",
        "[source](https://www.geeksforgeeks.org/normal-probability-plot/)\n",
        "\n"
      ]
    },
    {
      "cell_type": "markdown",
      "metadata": {
        "id": "XCJiWb7DokRx"
      },
      "source": [
        "**Normal Probabiliy Plot**\n",
        "Is a way of knowing whether our data is normally distributed or not. "
      ]
    },
    {
      "cell_type": "code",
      "metadata": {
        "colab": {
          "base_uri": "https://localhost:8080/",
          "height": 442
        },
        "id": "5_eri13R1yA6",
        "outputId": "012d29e4-e0c6-473f-cb61-a0148af37b33"
      },
      "source": [
        "import statsmodels.graphics.gofplots as sm\n",
        "import statsmodels.api as sm\n",
        "fig, ax = plt.subplots(1, 2, figsize=(12, 7))\n",
        "sns.histplot(standard_residual,kde=True, color ='blue',ax=ax[0])\n",
        "pplot = sm.ProbPlot(np.array(standard_residual))\n",
        "pplot.qqplot(line='s', ax=ax[1])\n",
        "plt.show()"
      ],
      "execution_count": null,
      "outputs": [
        {
          "output_type": "display_data",
          "data": {
            "image/png": "[encoded data removed]",
            "text/plain": [
              "<Figure size 864x504 with 2 Axes>"
            ]
          },
          "metadata": {
            "tags": [],
            "needs_background": "light"
          }
        }
      ]
    },
    {
      "cell_type": "markdown",
      "metadata": {
        "id": "QN6_ddGes5Zh"
      },
      "source": [
        "### Kolmogorov-Smirnov Test for Normality\n",
        "To test the error term is distributed normally or not, we can use Kolmogorov-Smirnov test. <br>\n",
        "**Decission**:\n",
        "* $Significance > 0.05$, then the residual is distributed normally\n",
        "* $Significance < 0.05$, then the residual isn't distributed normally"
      ]
    },
    {
      "cell_type": "code",
      "metadata": {
        "colab": {
          "base_uri": "https://localhost:8080/"
        },
        "id": "r4rODmQL9LJC",
        "outputId": "89535a80-b1aa-425e-9c8f-f8bec61d2216"
      },
      "source": [
        "kstest(residual,'norm')"
      ],
      "execution_count": null,
      "outputs": [
        {
          "output_type": "execute_result",
          "data": {
            "text/plain": [
              "KstestResult(statistic=0.22787504121162228, pvalue=1.3079997334174105e-09)"
            ]
          },
          "metadata": {
            "tags": []
          },
          "execution_count": 48
        }
      ]
    },
    {
      "cell_type": "markdown",
      "metadata": {
        "id": "WKD92Ic0KxnW"
      },
      "source": [
        "### Kurtosis and Skewness"
      ]
    },
    {
      "cell_type": "code",
      "metadata": {
        "colab": {
          "base_uri": "https://localhost:8080/"
        },
        "id": "Yhw4FtH7Q8Ks",
        "outputId": "baa45e06-d26c-4325-d446-3b91f332c4aa"
      },
      "source": [
        "from scipy.stats import kurtosis, skew\n",
        "print(\"Kurtosis: \", kurtosis(residual))\n",
        "print(\"Skew: \", skew(residual))"
      ],
      "execution_count": null,
      "outputs": [
        {
          "output_type": "stream",
          "text": [
            "Kurtosis:  -0.44876298160108385\n",
            "Skew:  -0.012132913221089286\n"
          ],
          "name": "stdout"
        }
      ]
    },
    {
      "cell_type": "markdown",
      "metadata": {
        "id": "s0Ogd304B-cy"
      },
      "source": [
        "## OLS Assumption 2 : No *Homoscedasticity*\n",
        "Homoscedasticity refers to whether these residuals are equally distributed, or whether they tend to bunch together at some values, and at other values, spread far apart. <br>\n",
        "\n",
        "[Source](https://www.statisticssolutions.com/testing-assumptions-of-linear-regression-in-spss/#:~:text=If%20we%20examine%20a%20normal,the%20residuals%20are%20normally%20distributed.&text=Homoscedasticity%20refers%20to%20whether%20these,other%20values%2C%20spread%20far%20apart.)\n"
      ]
    },
    {
      "cell_type": "code",
      "metadata": {
        "colab": {
          "base_uri": "https://localhost:8080/",
          "height": 299
        },
        "id": "6oxRlv_zx-S4",
        "outputId": "ff9cbffd-abf2-49f3-ce81-c9669b00b7bc"
      },
      "source": [
        "plt.scatter(x=y_pred, y=residual)\n",
        "plt.title(\"Scatter Plot standardized residual and y predicted \")"
      ],
      "execution_count": null,
      "outputs": [
        {
          "output_type": "execute_result",
          "data": {
            "text/plain": [
              "Text(0.5, 1.0, 'Scatter Plot standardized residual and y predicted ')"
            ]
          },
          "metadata": {
            "tags": []
          },
          "execution_count": 53
        },
        {
          "output_type": "display_data",
          "data": {
            "image/png": "[encoded data removed]",
            "text/plain": [
              "<Figure size 432x288 with 1 Axes>"
            ]
          },
          "metadata": {
            "tags": [],
            "needs_background": "light"
          }
        }
      ]
    },
    {
      "cell_type": "markdown",
      "metadata": {
        "id": "SxitygDIU7_T"
      },
      "source": [
        "Kesimpulan: Tidak terjadi heterokedastisitas karena titik-titik menyebar secara acak pada plot di atas."
      ]
    },
    {
      "cell_type": "markdown",
      "metadata": {
        "id": "Zqw-ofz4CATm"
      },
      "source": [
        "## OLS Assumption : Auto Correlations"
      ]
    },
    {
      "cell_type": "markdown",
      "metadata": {
        "id": "6AujeBgP8aX3"
      },
      "source": [
        "### Durbin Watson Test\n",
        "\n",
        "$H_0 = $ tidak ada auto korelasi (r=0) <br>\n",
        "$H_1 = $ ada auto korelasi ($r\\ne 0$) <br>\n",
        "\n",
        "## $d = \\frac{\\sum^{n}_{u=2}(e_u-e_{u-1})^2}{\\sum^n_{u=1}(e^2_u)}$"
      ]
    },
    {
      "cell_type": "markdown",
      "metadata": {
        "id": "ET7NsCGCXm5k"
      },
      "source": [
        "[Table Source](https://ototechblog.files.wordpress.com/2021/01/tabel-dw_statmat.pdf)"
      ]
    },
    {
      "cell_type": "code",
      "metadata": {
        "id": "VjSbvJfIymzB"
      },
      "source": [
        "from statsmodels.stats.stattools import durbin_watson\n",
        "# Using statsmodels.durbin_watson() method\n",
        "dw_hitung = durbin_watson(residual)\n",
        "\n",
        "print(dw_hitung)"
      ],
      "execution_count": null,
      "outputs": []
    },
    {
      "cell_type": "markdown",
      "metadata": {
        "id": "4C4ro77dMFfD"
      },
      "source": [
        "Kesimpulan: Nilai DW sebesar 0.19168, dengan menggunakan table Turbin-Watson (DW), dan $\\alpha=0.05$ dan sebelumnya kami mengambil 200 sampel observation dengan 3 variable independent maka dari table tersebut kami dapatkan nilai $dL=1.7382$ dan $dU=1.7990$. Sehingga kesimpulannya adalah berkorelasi positif (+) karena nilai $dw$ hitung $=0.19168$ lebih kecil dari nilai $dL$.  "
      ]
    },
    {
      "cell_type": "markdown",
      "metadata": {
        "id": "eFqo6fRNE3Td"
      },
      "source": [
        "heheheheh"
      ]
    },
    {
      "cell_type": "code",
      "metadata": {
        "id": "1FRH_d_tE39y"
      },
      "source": [
        ""
      ],
      "execution_count": null,
      "outputs": []
    }
  ]
}